{
 "cells": [
  {
   "cell_type": "markdown",
   "id": "810d9f10-ec19-4b09-8f90-e983e460b319",
   "metadata": {},
   "source": [
    "<center>\n",
    "<img src=\"https://laelgelcpublic.s3.sa-east-1.amazonaws.com/lael_50_years_narrow_white.png.no_years.400px_96dpi.png\" width=\"300\" alt=\"LAEL 50 years logo\">\n",
    "<h3>APPLIED LINGUISTICS GRADUATE PROGRAMME (LAEL)</h3>\n",
    "</center>\n",
    "<hr>"
   ]
  },
  {
   "cell_type": "markdown",
   "id": "888c2c96-2fc3-4a1a-995b-c388036a2a15",
   "metadata": {},
   "source": "# Corpus Linguistics - Study 1 - Proof of Concept 1 - Andressa"
  },
  {
   "metadata": {},
   "cell_type": "markdown",
   "source": "This document aims to test data extraction via Reddit Data API.",
   "id": "acf39297d0869264"
  },
  {
   "metadata": {},
   "cell_type": "markdown",
   "source": "## Required Python packages",
   "id": "88f48eed3fa8e2fa"
  },
  {
   "metadata": {},
   "cell_type": "markdown",
   "source": [
    "- pandas\n",
    "- numpy\n",
    "- seaborn\n",
    "- matplotlib"
   ],
   "id": "e7888ca591a6c23d"
  },
  {
   "metadata": {},
   "cell_type": "markdown",
   "source": "## Import the required libraries",
   "id": "498faa88fd1f2a17"
  },
  {
   "metadata": {
    "ExecuteTime": {
     "end_time": "2025-09-15T20:29:50.277129Z",
     "start_time": "2025-09-15T20:29:50.268397Z"
    }
   },
   "cell_type": "code",
   "outputs": [],
   "execution_count": 10,
   "source": [
    "import os\n",
    "import sys\n",
    "import pandas as pd\n",
    "import re\n",
    "import numpy as np\n",
    "import seaborn as sns\n",
    "import matplotlib.pyplot as plt"
   ],
   "id": "7e6290f913a516f7"
  },
  {
   "metadata": {},
   "cell_type": "markdown",
   "source": "## Define input variables",
   "id": "321955b2ffcf3ca"
  },
  {
   "metadata": {
    "ExecuteTime": {
     "end_time": "2025-09-09T21:30:43.964550Z",
     "start_time": "2025-09-09T21:30:43.960535Z"
    }
   },
   "cell_type": "code",
   "outputs": [],
   "execution_count": 2,
   "source": [
    "input_directory = 'cl_st1_poc1'\n",
    "output_directory = 'cl_st1_poc1'"
   ],
   "id": "6b1022af784c1250"
  },
  {
   "metadata": {},
   "cell_type": "markdown",
   "source": "## Create output directory",
   "id": "77e8333c4af00ef6"
  },
  {
   "metadata": {
    "ExecuteTime": {
     "end_time": "2025-09-08T19:10:53.171604Z",
     "start_time": "2025-09-08T19:10:53.162151Z"
    }
   },
   "cell_type": "code",
   "outputs": [
    {
     "name": "stdout",
     "output_type": "stream",
     "text": [
      "Output directory successfully created.\n"
     ]
    }
   ],
   "execution_count": 3,
   "source": [
    "# Check if the output directory already exists. If it does, do nothing. If it doesn't exist, create it.\n",
    "if os.path.exists(output_directory):\n",
    "    print('Output directory already exists.')\n",
    "else:\n",
    "    try:\n",
    "        os.makedirs(output_directory)\n",
    "        print('Output directory successfully created.')\n",
    "    except OSError as e:\n",
    "        print('Failed to create the directory:', e)\n",
    "        sys.exit(1)"
   ],
   "id": "462309b7db4ce20a"
  }
 ],
 "metadata": {
  "jupytext": {
   "formats": "ipynb,py:percent"
  },
  "kernelspec": {
   "display_name": "Python 3 (ipykernel)",
   "language": "python",
   "name": "python3"
  },
  "language_info": {
   "codemirror_mode": {
    "name": "ipython",
    "version": 3
   },
   "file_extension": ".py",
   "mimetype": "text/x-python",
   "name": "python",
   "nbconvert_exporter": "python",
   "pygments_lexer": "ipython3",
   "version": "3.12.11"
  }
 },
 "nbformat": 4,
 "nbformat_minor": 5
}
